{
 "cells": [
  {
   "cell_type": "raw",
   "metadata": {},
   "source": [
    "# preparation and set up:"
   ]
  },
  {
   "cell_type": "code",
   "execution_count": 1,
   "metadata": {},
   "outputs": [],
   "source": [
    "import numpy as np\n",
    "from itertools import combinations\n",
    "import scipy.special\n",
    "\n",
    "# number of vectors 20,000\n",
    "n = 20000\n",
    "# dimention of the vector, 20\n",
    "d = 20\n",
    "fee_matrix = gram_matrix = np.zeros((n, n))\n",
    "sqrt2 = np.sqrt(2)\n",
    "vector_231_generic = np.zeros(int(scipy.special.comb(d + 2, 2)))\n",
    "\n",
    "# matrix with 20,000 vectors in dim 20\n",
    "random_matrix = np.random.rand(n, d)"
   ]
  },
  {
   "cell_type": "raw",
   "metadata": {},
   "source": [
    "# functions:"
   ]
  },
  {
   "cell_type": "code",
   "execution_count": 2,
   "metadata": {},
   "outputs": [],
   "source": [
    "# create the gram matrix\n",
    "def create_gram_matrix(random_matrix):\n",
    "    for i in range(gram_matrix.shape[0]):\n",
    "        for j in range(gram_matrix.shape[1]):\n",
    "            # keranl function, recives two 20 dim vectors and returns the dot product after the maping (𝑥 ∙ 𝑦 + 1)^2\n",
    "            gram_matrix[i][j] = np.square(np.dot(random_matrix[i], random_matrix[j])+1)\n",
    "    return gram_matrix\n",
    "\n",
    "# mapping function fee, to higher dimention, in this case 231\n",
    "# given a 20 dimention vector this function mapps it to dimintion 231\n",
    "def fee_maping(x):\n",
    "    vector_231 = vector_231_generic\n",
    "    \n",
    "    # first entery is 1\n",
    "    vector_231[0] = 1\n",
    "    # next 40 enteries are different, of the kind (x_i * x_i) or (root(2) * x_i)\n",
    "    for i in range(d):\n",
    "        vector_231[1 + i] = sqrt2 * x[i]\n",
    "    for i in range(d):\n",
    "        vector_231[21 + i] = x[i] * x[i]\n",
    "    \n",
    "    # the rest 190 enteries are all posible combination of the two enteries.\n",
    "    comb = combinations(x, 2)\n",
    "    i = 0\n",
    "    for combination in comb:\n",
    "        vector_231[41 + i] = sqrt2 * combination[0] * combination[1]\n",
    "        i += 1\n",
    "    return vector_231\n",
    "\n",
    "\n",
    "# create the matrix using the fee maping\n",
    "def create_fee_matrix(random_matrix):\n",
    "    for i in range(fee_matrix.shape[0]):\n",
    "        for j in range(fee_matrix.shape[1]):\n",
    "            fee_matrix[i][j] = np.dot(fee_maping(random_matrix[i]), fee_maping(random_matrix[j]))\n",
    "    return fee_matrix\n"
   ]
  },
  {
   "cell_type": "raw",
   "metadata": {},
   "source": [
    "# fee maping methode:"
   ]
  },
  {
   "cell_type": "code",
   "execution_count": 3,
   "metadata": {},
   "outputs": [
    {
     "name": "stdout",
     "output_type": "stream",
     "text": [
      "(200, 200)\n",
      "Wall time: 7.58 s\n"
     ]
    }
   ],
   "source": [
    "%%time\n",
    "\n",
    "# init of the fee matrix size 20,000 X 20,000\n",
    "fee_matrix = create_fee_matrix(random_matrix)\n",
    "print(fee_matrix.shape)"
   ]
  },
  {
   "cell_type": "raw",
   "metadata": {},
   "source": [
    "# gram methode:"
   ]
  },
  {
   "cell_type": "code",
   "execution_count": 4,
   "metadata": {},
   "outputs": [
    {
     "name": "stdout",
     "output_type": "stream",
     "text": [
      "(200, 200)\n",
      "Wall time: 181 ms\n"
     ]
    }
   ],
   "source": [
    "%%time\n",
    "\n",
    "# init of the gram matrix size 20,000 X 20,000\n",
    "gram_matrix = create_gram_matrix(random_matrix)\n",
    "print(gram_matrix.shape)"
   ]
  },
  {
   "cell_type": "raw",
   "metadata": {},
   "source": [
    "# test:"
   ]
  },
  {
   "cell_type": "code",
   "execution_count": 5,
   "metadata": {},
   "outputs": [
    {
     "name": "stdout",
     "output_type": "stream",
     "text": [
      "Are the fee_matirx and gram_matrix the same?  (answer will be True/False)\n",
      "True\n"
     ]
    }
   ],
   "source": [
    "# check if the matrixes are close using the isclose function\n",
    "check_matrix = np.isclose(gram_matrix, fee_matrix)\n",
    "\n",
    "test = np.all(check_matrix)\n",
    "# print if there is a false value in check_matrix\n",
    "print(\"Are the fee_matirx and gram_matrix the same?  (answer will be True/False)\")\n",
    "print(test)\n"
   ]
  },
  {
   "cell_type": "markdown",
   "metadata": {},
   "source": [
    "answer to 4.g)\n",
    "    time diffrence between the two processes was surprisingly big.\n",
    "    when running with 1000 vectors it took 2.4 seconds to create the gram matrix\n",
    "    and 2:40 minutes to create the fee matrix.\n",
    "    we cocluded that as we learned in class working with gram matrix, and the kernal trick, is much more\n",
    "    efficient then the fee matrix becuse we didnt need to calculate the mapping to a higher dimention,\n",
    "    insted we use the kernal trick which reduces the computational process."
   ]
  }
 ],
 "metadata": {
  "kernelspec": {
   "display_name": "Python 3",
   "language": "python",
   "name": "python3"
  },
  "language_info": {
   "codemirror_mode": {
    "name": "ipython",
    "version": 3
   },
   "file_extension": ".py",
   "mimetype": "text/x-python",
   "name": "python",
   "nbconvert_exporter": "python",
   "pygments_lexer": "ipython3",
   "version": "3.7.1"
  }
 },
 "nbformat": 4,
 "nbformat_minor": 2
}
